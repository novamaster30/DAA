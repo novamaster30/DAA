{
 "cells": [
  {
   "cell_type": "code",
   "execution_count": 3,
   "id": "88733e37",
   "metadata": {},
   "outputs": [
    {
     "name": "stdout",
     "output_type": "stream",
     "text": [
      "Recursive Approach: \n",
      "0\n",
      "1\n",
      "1\n",
      "2\n",
      "3\n",
      "5\n",
      "8\n",
      "13\n",
      "21\n",
      "34\n",
      "Non-recursive Approach: \n",
      "0\n",
      "1\n",
      "1\n",
      "2\n",
      "3\n",
      "5\n",
      "8\n",
      "13\n",
      "21\n",
      "34\n"
     ]
    }
   ],
   "source": [
    "def recursive_fibonacci(n):\n",
    "    if n<=1:\n",
    "        return n\n",
    "    else:\n",
    "        return recursive_fibonacci(n-1) + recursive_fibonacci(n-2)\n",
    "\n",
    "\n",
    "def non_recursive_fibonacci(n):\n",
    "    first=0\n",
    "    second=1\n",
    "    print(first)\n",
    "    print(second)\n",
    "    while n-2>0:\n",
    "        third = first + second\n",
    "        first=second\n",
    "        second=third\n",
    "        print(third)\n",
    "        n-=1\n",
    "\n",
    "\n",
    "if __name__==\"__main__\":\n",
    "    n=10\n",
    "    print(\"Recursive Approach: \")\n",
    "    for i in range(n):\n",
    "        print(recursive_fibonacci(i))\n",
    "\n",
    "print(\"Non-recursive Approach: \")\n",
    "non_recursive_fibonacci(n)\n"
   ]
  },
  {
   "cell_type": "code",
   "execution_count": null,
   "id": "d852ddc1",
   "metadata": {},
   "outputs": [],
   "source": []
  }
 ],
 "metadata": {
  "kernelspec": {
   "display_name": "Python 3 (ipykernel)",
   "language": "python",
   "name": "python3"
  },
  "language_info": {
   "codemirror_mode": {
    "name": "ipython",
    "version": 3
   },
   "file_extension": ".py",
   "mimetype": "text/x-python",
   "name": "python",
   "nbconvert_exporter": "python",
   "pygments_lexer": "ipython3",
   "version": "3.10.9"
  }
 },
 "nbformat": 4,
 "nbformat_minor": 5
}
