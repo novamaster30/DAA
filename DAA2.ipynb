{
 "cells": [
  {
   "cell_type": "code",
   "execution_count": 3,
   "id": "8eea5066-4836-429b-86f6-ccd61a24aad6",
   "metadata": {},
   "outputs": [
    {
     "name": "stdout",
     "output_type": "stream",
     "text": [
      "Character: f, Code: 0\n",
      "Character: c, Code: 100\n",
      "Character: d, Code: 101\n",
      "Character: e, Code: 111\n",
      "Character: a, Code: 1100\n",
      "Character: b, Code: 1101\n"
     ]
    }
   ],
   "source": [
    "import heapq\n",
    "\n",
    "def huffman_encoding(chars, freqs):\n",
    "    heap = [[f, [c, \"\"]] for c, f in zip(chars, freqs)]\n",
    "    heapq.heapify(heap)\n",
    "    \n",
    "    while len(heap) > 1:\n",
    "        left = heapq.heappop(heap)\n",
    "        right = heapq.heappop(heap)\n",
    "        \n",
    "        for pair in left[1:]: pair[1] = '0' + pair[1]\n",
    "        for pair in right[1:]: pair[1] = '1' + pair[1]\n",
    "        \n",
    "        heapq.heappush(heap, [left[0] + right[0]] + left[1:] + right[1:])\n",
    "    \n",
    "    return sorted(heap[0][1:], key=lambda x: (len(x[1]), x[0]))\n",
    "\n",
    "chars = [\"a\", \"b\", \"c\", \"d\", \"e\", \"f\"]\n",
    "freqs = [5, 9, 12, 13, 16, 45]\n",
    "codes = huffman_encoding(chars, freqs)\n",
    "\n",
    "for char, code in codes:\n",
    "    print(f\"Character: {char}, Code: {code}\")\n"
   ]
  },
  {
   "cell_type": "code",
   "execution_count": null,
   "id": "463c55f6-37c6-4d74-b892-c08b12d92a01",
   "metadata": {},
   "outputs": [],
   "source": []
  }
 ],
 "metadata": {
  "kernelspec": {
   "display_name": "Python 3 (ipykernel)",
   "language": "python",
   "name": "python3"
  },
  "language_info": {
   "codemirror_mode": {
    "name": "ipython",
    "version": 3
   },
   "file_extension": ".py",
   "mimetype": "text/x-python",
   "name": "python",
   "nbconvert_exporter": "python",
   "pygments_lexer": "ipython3",
   "version": "3.11.8"
  }
 },
 "nbformat": 4,
 "nbformat_minor": 5
}
