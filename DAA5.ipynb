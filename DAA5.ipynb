{
 "cells": [
  {
   "cell_type": "code",
   "execution_count": 2,
   "id": "160d135b",
   "metadata": {},
   "outputs": [
    {
     "name": "stdout",
     "output_type": "stream",
     "text": [
      "1 0 0 0 0 0 0 0\n",
      "0 0 0 0 1 0 0 0\n",
      "0 0 0 0 0 0 0 1\n",
      "0 0 0 0 0 1 0 0\n",
      "0 0 1 0 0 0 0 0\n",
      "0 0 0 0 0 0 1 0\n",
      "0 1 0 0 0 0 0 0\n",
      "0 0 0 1 0 0 0 0\n"
     ]
    }
   ],
   "source": [
    "def n_queens(n):\n",
    "    col = set()\n",
    "    pos_diag = set()\n",
    "    neg_diag = set()\n",
    "    res = []\n",
    "\n",
    "    board = [[\"0\"] * n for i in range(n)]\n",
    "\n",
    "    def backtrack(r):\n",
    "        if r == n:\n",
    "            copy = [\" \".join(row) for row in board]\n",
    "            res.append(copy)\n",
    "            return\n",
    "\n",
    "        for c in range(n):\n",
    "            if c in col or (r + c) in pos_diag or (r - c) in neg_diag:\n",
    "                continue\n",
    "\n",
    "            col.add(c)\n",
    "            pos_diag.add(r + c)\n",
    "            neg_diag.add(r - c)\n",
    "            board[r][c] = \"1\"\n",
    "\n",
    "            backtrack(r + 1)\n",
    "\n",
    "            col.remove(c)\n",
    "            pos_diag.remove(r + c)\n",
    "            neg_diag.remove(r - c)\n",
    "            board[r][c] = \"0\"\n",
    "\n",
    "    backtrack(0)\n",
    "\n",
    "    if res:\n",
    "        for row in res[0]:\n",
    "            print(row)\n",
    "    else:\n",
    "        print(\"No solution found.\")\n",
    "\n",
    "if __name__ == \"__main__\":\n",
    "    n_queens(8)"
   ]
  },
  {
   "cell_type": "code",
   "execution_count": null,
   "id": "b38535e6",
   "metadata": {},
   "outputs": [],
   "source": []
  }
 ],
 "metadata": {
  "kernelspec": {
   "display_name": "Python 3 (ipykernel)",
   "language": "python",
   "name": "python3"
  },
  "language_info": {
   "codemirror_mode": {
    "name": "ipython",
    "version": 3
   },
   "file_extension": ".py",
   "mimetype": "text/x-python",
   "name": "python",
   "nbconvert_exporter": "python",
   "pygments_lexer": "ipython3",
   "version": "3.10.9"
  }
 },
 "nbformat": 4,
 "nbformat_minor": 5
}
